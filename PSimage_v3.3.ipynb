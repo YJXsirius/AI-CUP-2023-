{
 "cells": [
  {
   "cell_type": "code",
   "execution_count": null,
   "id": "aa847aa7",
   "metadata": {},
   "outputs": [],
   "source": [
    "#轉換成圖片"
   ]
  },
  {
   "cell_type": "code",
   "execution_count": 2,
   "id": "f152cd31",
   "metadata": {},
   "outputs": [
    {
     "name": "stdout",
     "output_type": "stream",
     "text": [
      "所有图像已保存至 D:/tf29/Go_competition/AIcupTutorial-main/Training Dataset/play_style_image_v3.3\n"
     ]
    }
   ],
   "source": [
    "import tensorflow as tf\n",
    "from tensorflow.keras.models import Model\n",
    "from tensorflow.keras.layers import Input, Conv2D, BatchNormalization, Activation, GlobalAveragePooling2D, Flatten, Softmax, Dense, Add, Dropout, MaxPooling2D\n",
    "from tensorflow.keras.optimizers import Nadam\n",
    "from tensorflow.keras.callbacks import EarlyStopping, ReduceLROnPlateau, ModelCheckpoint\n",
    "from tensorflow.keras.initializers import HeNormal\n",
    "from tensorflow.keras.regularizers import l2\n",
    "import numpy as np\n",
    "from tensorflow.keras.utils import to_categorical\n",
    "from sklearn.model_selection import train_test_split\n",
    "from PIL import Image, ImageDraw\n",
    "from tensorflow.keras.applications import EfficientNetB0\n",
    "import os\n",
    "\n",
    "\n",
    "# 读取数据(要轉換的訓練資料)\n",
    "df = open('D:/tf29/Go_competition/AIcupTutorial-main/Training Dataset/play_style_train.csv').read().splitlines()\n",
    "games = [i.split(',', 2)[-1] for i in df]\n",
    "game_styles = [int(i.split(',', 2)[-2]) for i in df]\n",
    "chars = 'abcdefghijklmnopqrs'\n",
    "coordinates = {k: v for v, k in enumerate(chars)}\n",
    "\n",
    "# 计算棋盘上点的像素位置\n",
    "def get_pixel_position(move, size=224, grid_size=19):\n",
    "    pixel_per_unit = (size - 20) / (grid_size - 1)\n",
    "    x = 10 + pixel_per_unit * coordinates[move[1]]\n",
    "    y = 10 + pixel_per_unit * coordinates[move[0]]\n",
    "    return int(x), int(y)\n",
    "\n",
    "# 准备带有棋子的棋盘图像\n",
    "def prepare_board_with_pieces(moves, size=224):\n",
    "    board_img = Image.new('RGB', (size, size), 'orange')\n",
    "    draw = ImageDraw.Draw(board_img)\n",
    "\n",
    "    # 确定每个格子的像素大小\n",
    "    pixel_per_unit = (size - 20) / 18\n",
    "\n",
    "    # 绘制棋盘线\n",
    "    for i in range(19):\n",
    "        draw.line((10, 10 + i * pixel_per_unit, size - 10, 10 + i * pixel_per_unit), fill='gray')\n",
    "        draw.line((10 + i * pixel_per_unit, 10, 10 + i * pixel_per_unit, size - 10), fill='gray')\n",
    "\n",
    "    # 绘制棋子\n",
    "    for idx, move in enumerate(moves):\n",
    "        color, pos = move[0], move[2:4]\n",
    "        x, y = get_pixel_position(pos, size, 19)\n",
    "        piece_color = 'black' if color == 'B' else 'white'\n",
    "        radius = 4  # 棋子半径大小\n",
    "\n",
    "        # 为最后一步棋绘制方形\n",
    "        if idx == len(moves) - 1:\n",
    "            draw.rectangle([(x - radius, y - radius), (x + radius, y + radius)], fill=piece_color)\n",
    "        elif idx == len(moves) - 2:\n",
    "            # 为对方最后一步棋绘制菱形\n",
    "            draw.regular_polygon(((x, y), radius), 4, rotation=45, fill=piece_color)\n",
    "        else:\n",
    "            # 绘制圆形棋子\n",
    "            draw.ellipse([(x - radius, y - radius), (x + radius, y + radius)], fill=piece_color)\n",
    "\n",
    "    return np.array(board_img) / 255.0\n",
    "\n",
    "# 创建保存图像的目录資料夾\n",
    "save_dir = 'D:/tf29/Go_competition/AIcupTutorial-main/Training Dataset/play_style_image_v3.3'\n",
    "os.makedirs(save_dir, exist_ok=True)\n",
    "\n",
    "# 遍历数据并保存图像\n",
    "for idx, (game, style) in enumerate(zip(games, game_styles)):\n",
    "    moves = game.split(',')\n",
    "    board_img = prepare_board_with_pieces(moves)  # 生成棋盘图像\n",
    "    # 构建文件名，使用格式化确保序号为固定长度的字符串\n",
    "    filename = f'PSL{idx + 1:012}_style_{style}.jpg'  # 例如 'PSL0000000001_style_1.jpg'\n",
    "    save_path = os.path.join(save_dir, filename)\n",
    "    Image.fromarray((board_img * 255).astype(np.uint8)).save(save_path)\n",
    "\n",
    "print(\"所有图像已保存至\", save_dir)\n"
   ]
  },
  {
   "cell_type": "code",
   "execution_count": null,
   "id": "d3b39246",
   "metadata": {},
   "outputs": [],
   "source": [
    "#將圖片分類(因為ImageDataGenerator需要"
   ]
  },
  {
   "cell_type": "code",
   "execution_count": 3,
   "id": "4141cec3",
   "metadata": {},
   "outputs": [
    {
     "name": "stdout",
     "output_type": "stream",
     "text": [
      "数据分割完成。\n"
     ]
    }
   ],
   "source": [
    "import os\n",
    "import shutil\n",
    "import numpy as np\n",
    "\n",
    "# 设置圖片來源資料夾和目标資料夾\n",
    "source_dir = 'D:/tf29/Go_competition/AIcupTutorial-main/Training Dataset/play_style_image_v3.3'\n",
    "train_dir = os.path.join(source_dir, 'train')\n",
    "val_dir = os.path.join(source_dir, 'val')\n",
    "\n",
    "# 定义棋风类别\n",
    "styles = ['style_1', 'style_2', 'style_3']\n",
    "\n",
    "# 分割比例\n",
    "split_ratio = 0.9\n",
    "\n",
    "# 为每种棋风在训练集和验证集中创建子資料夾\n",
    "for style in styles:\n",
    "    os.makedirs(os.path.join(train_dir, style), exist_ok=True)\n",
    "    os.makedirs(os.path.join(val_dir, style), exist_ok=True)\n",
    "\n",
    "    # 获取每种棋风的文件列表\n",
    "    files = [file for file in os.listdir(source_dir) if file.endswith('.jpg') and style in file]\n",
    "\n",
    "    # 随机打乱文件列表\n",
    "    np.random.shuffle(files)\n",
    "\n",
    "    # 确定分割点\n",
    "    split = int(len(files) * split_ratio)\n",
    "\n",
    "    # 分配文件到训练集和验证集的相应子資料夾\n",
    "    for file in files[:split]:\n",
    "        shutil.move(os.path.join(source_dir, file), os.path.join(train_dir, style, file))\n",
    "    for file in files[split:]:\n",
    "        shutil.move(os.path.join(source_dir, file), os.path.join(val_dir, style, file))\n",
    "\n",
    "print(\"数据分割完成。\")"
   ]
  },
  {
   "cell_type": "code",
   "execution_count": null,
   "id": "8e67b140",
   "metadata": {},
   "outputs": [],
   "source": []
  }
 ],
 "metadata": {
  "kernelspec": {
   "display_name": "Python 3 (ipykernel)",
   "language": "python",
   "name": "python3"
  },
  "language_info": {
   "codemirror_mode": {
    "name": "ipython",
    "version": 3
   },
   "file_extension": ".py",
   "mimetype": "text/x-python",
   "name": "python",
   "nbconvert_exporter": "python",
   "pygments_lexer": "ipython3",
   "version": "3.7.16"
  }
 },
 "nbformat": 4,
 "nbformat_minor": 5
}
